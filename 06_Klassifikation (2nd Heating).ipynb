{
 "cells": [
  {
   "cell_type": "markdown",
   "id": "8d8b6656-5290-41b2-9a00-918ea68342e9",
   "metadata": {},
   "source": [
    "# Klassifikation \n",
    "**Feature:**\n",
    "- '∆Hm in Jg-1',\n",
    "-  'TStart in °C'\n",
    "-  'TEnd in °C'\n",
    "-  'Tm in °C'\n",
    "-  (Hm)\n",
    "-  'Modality'\n",
    "-  'Polymer'\n",
    "\n",
    "**Target:** 'Aging Level'"
   ]
  },
  {
   "cell_type": "code",
   "execution_count": 2,
   "id": "9a96d4d8",
   "metadata": {},
   "outputs": [],
   "source": [
    "from sklearn.model_selection import train_test_split\n",
    "from sklearn.ensemble import RandomForestClassifier\n",
    "from sklearn.preprocessing import LabelEncoder, StandardScaler\n",
    "from sklearn.metrics import classification_report, accuracy_score"
   ]
  },
  {
   "cell_type": "code",
   "execution_count": 3,
   "id": "13ac8379",
   "metadata": {},
   "outputs": [],
   "source": [
    "import pandas as pd"
   ]
  },
  {
   "cell_type": "code",
   "execution_count": 4,
   "id": "d38c6f73",
   "metadata": {},
   "outputs": [
    {
     "data": {
      "text/html": [
       "<div>\n",
       "<style scoped>\n",
       "    .dataframe tbody tr th:only-of-type {\n",
       "        vertical-align: middle;\n",
       "    }\n",
       "\n",
       "    .dataframe tbody tr th {\n",
       "        vertical-align: top;\n",
       "    }\n",
       "\n",
       "    .dataframe thead th {\n",
       "        text-align: right;\n",
       "    }\n",
       "</style>\n",
       "<table border=\"1\" class=\"dataframe\">\n",
       "  <thead>\n",
       "    <tr style=\"text-align: right;\">\n",
       "      <th></th>\n",
       "      <th>Sample Name</th>\n",
       "      <th>Name of Original DSC Measurement</th>\n",
       "      <th>Mass in mg</th>\n",
       "      <th>∆Hm in Jg-1</th>\n",
       "      <th>Segment</th>\n",
       "      <th>Polymer</th>\n",
       "      <th>TStart in °C</th>\n",
       "      <th>TEnd in °C</th>\n",
       "      <th>Tm in °C</th>\n",
       "      <th>Tm</th>\n",
       "      <th>Hm</th>\n",
       "      <th>Modality</th>\n",
       "      <th>Tail</th>\n",
       "      <th>Shoulder</th>\n",
       "      <th>Aging Level</th>\n",
       "    </tr>\n",
       "  </thead>\n",
       "  <tbody>\n",
       "    <tr>\n",
       "      <th>0</th>\n",
       "      <td>0-PE-1_1</td>\n",
       "      <td>0-PE-6</td>\n",
       "      <td>1.17</td>\n",
       "      <td>108.10</td>\n",
       "      <td>2nd Heating</td>\n",
       "      <td>PE</td>\n",
       "      <td>50.00</td>\n",
       "      <td>118.38</td>\n",
       "      <td>107.7</td>\n",
       "      <td>108</td>\n",
       "      <td>8.79001</td>\n",
       "      <td>sharp</td>\n",
       "      <td>left</td>\n",
       "      <td>undefined</td>\n",
       "      <td>Pristine LDPE and PET</td>\n",
       "    </tr>\n",
       "    <tr>\n",
       "      <th>1</th>\n",
       "      <td>0-PE-1_2</td>\n",
       "      <td>0-PE-7</td>\n",
       "      <td>1.22</td>\n",
       "      <td>107.90</td>\n",
       "      <td>2nd Heating</td>\n",
       "      <td>PE</td>\n",
       "      <td>50.00</td>\n",
       "      <td>119.30</td>\n",
       "      <td>107.7</td>\n",
       "      <td>108</td>\n",
       "      <td>8.76131</td>\n",
       "      <td>sharp</td>\n",
       "      <td>left</td>\n",
       "      <td>undefined</td>\n",
       "      <td>Pristine LDPE and PET</td>\n",
       "    </tr>\n",
       "    <tr>\n",
       "      <th>2</th>\n",
       "      <td>0-PE-1_3</td>\n",
       "      <td>0-PE-8</td>\n",
       "      <td>1.19</td>\n",
       "      <td>108.10</td>\n",
       "      <td>2nd Heating</td>\n",
       "      <td>PE</td>\n",
       "      <td>50.00</td>\n",
       "      <td>118.90</td>\n",
       "      <td>107.6</td>\n",
       "      <td>108</td>\n",
       "      <td>8.71668</td>\n",
       "      <td>sharp</td>\n",
       "      <td>left</td>\n",
       "      <td>undefined</td>\n",
       "      <td>Pristine LDPE and PET</td>\n",
       "    </tr>\n",
       "    <tr>\n",
       "      <th>3</th>\n",
       "      <td>0-PE-1_4</td>\n",
       "      <td>0-PE-9</td>\n",
       "      <td>1.27</td>\n",
       "      <td>109.40</td>\n",
       "      <td>2nd Heating</td>\n",
       "      <td>PE</td>\n",
       "      <td>50.00</td>\n",
       "      <td>118.20</td>\n",
       "      <td>107.7</td>\n",
       "      <td>108</td>\n",
       "      <td>8.40655</td>\n",
       "      <td>sharp</td>\n",
       "      <td>left</td>\n",
       "      <td>undefined</td>\n",
       "      <td>Pristine LDPE and PET</td>\n",
       "    </tr>\n",
       "    <tr>\n",
       "      <th>4</th>\n",
       "      <td>0-PE-1_5</td>\n",
       "      <td>0-PE-10</td>\n",
       "      <td>1.41</td>\n",
       "      <td>107.10</td>\n",
       "      <td>2nd Heating</td>\n",
       "      <td>PE</td>\n",
       "      <td>50.00</td>\n",
       "      <td>119.00</td>\n",
       "      <td>107.8</td>\n",
       "      <td>108</td>\n",
       "      <td>7.96444</td>\n",
       "      <td>sharp</td>\n",
       "      <td>left</td>\n",
       "      <td>undefined</td>\n",
       "      <td>Pristine LDPE and PET</td>\n",
       "    </tr>\n",
       "    <tr>\n",
       "      <th>...</th>\n",
       "      <td>...</td>\n",
       "      <td>...</td>\n",
       "      <td>...</td>\n",
       "      <td>...</td>\n",
       "      <td>...</td>\n",
       "      <td>...</td>\n",
       "      <td>...</td>\n",
       "      <td>...</td>\n",
       "      <td>...</td>\n",
       "      <td>...</td>\n",
       "      <td>...</td>\n",
       "      <td>...</td>\n",
       "      <td>...</td>\n",
       "      <td>...</td>\n",
       "      <td>...</td>\n",
       "    </tr>\n",
       "    <tr>\n",
       "      <th>270</th>\n",
       "      <td>3-EBT-PET-4_1</td>\n",
       "      <td>eb-PET-62</td>\n",
       "      <td>1.18</td>\n",
       "      <td>36.62</td>\n",
       "      <td>2nd Heating</td>\n",
       "      <td>PET</td>\n",
       "      <td>205.46</td>\n",
       "      <td>254.29</td>\n",
       "      <td>239.9</td>\n",
       "      <td>240</td>\n",
       "      <td>6.79035</td>\n",
       "      <td>wide</td>\n",
       "      <td>left</td>\n",
       "      <td>undefined</td>\n",
       "      <td>Third EBT</td>\n",
       "    </tr>\n",
       "    <tr>\n",
       "      <th>271</th>\n",
       "      <td>3-EBT-PET-4_2</td>\n",
       "      <td>eb-PET-63</td>\n",
       "      <td>1.27</td>\n",
       "      <td>36.95</td>\n",
       "      <td>2nd Heating</td>\n",
       "      <td>PET</td>\n",
       "      <td>201.99</td>\n",
       "      <td>251.99</td>\n",
       "      <td>239.9</td>\n",
       "      <td>240</td>\n",
       "      <td>6.08880</td>\n",
       "      <td>wide</td>\n",
       "      <td>left</td>\n",
       "      <td>undefined</td>\n",
       "      <td>Third EBT</td>\n",
       "    </tr>\n",
       "    <tr>\n",
       "      <th>272</th>\n",
       "      <td>3-EBT-PET-4_3</td>\n",
       "      <td>eb-PET-64</td>\n",
       "      <td>1.30</td>\n",
       "      <td>36.87</td>\n",
       "      <td>2nd Heating</td>\n",
       "      <td>PET</td>\n",
       "      <td>202.37</td>\n",
       "      <td>251.33</td>\n",
       "      <td>240.0</td>\n",
       "      <td>240</td>\n",
       "      <td>6.31048</td>\n",
       "      <td>wide</td>\n",
       "      <td>left</td>\n",
       "      <td>undefined</td>\n",
       "      <td>Third EBT</td>\n",
       "    </tr>\n",
       "    <tr>\n",
       "      <th>273</th>\n",
       "      <td>3-EBT-PET-4_4</td>\n",
       "      <td>eb-PET-65</td>\n",
       "      <td>1.21</td>\n",
       "      <td>36.30</td>\n",
       "      <td>2nd Heating</td>\n",
       "      <td>PET</td>\n",
       "      <td>198.86</td>\n",
       "      <td>256.10</td>\n",
       "      <td>239.3</td>\n",
       "      <td>239</td>\n",
       "      <td>6.60616</td>\n",
       "      <td>wide</td>\n",
       "      <td>left</td>\n",
       "      <td>undefined</td>\n",
       "      <td>Third EBT</td>\n",
       "    </tr>\n",
       "    <tr>\n",
       "      <th>274</th>\n",
       "      <td>3-EBT-PET-4_5</td>\n",
       "      <td>eb-PET-66</td>\n",
       "      <td>1.15</td>\n",
       "      <td>37.02</td>\n",
       "      <td>2nd Heating</td>\n",
       "      <td>PET</td>\n",
       "      <td>201.98</td>\n",
       "      <td>250.86</td>\n",
       "      <td>240.2</td>\n",
       "      <td>240</td>\n",
       "      <td>6.85982</td>\n",
       "      <td>wide</td>\n",
       "      <td>left</td>\n",
       "      <td>undefined</td>\n",
       "      <td>Third EBT</td>\n",
       "    </tr>\n",
       "  </tbody>\n",
       "</table>\n",
       "<p>275 rows × 15 columns</p>\n",
       "</div>"
      ],
      "text/plain": [
       "       Sample Name Name of Original DSC Measurement  Mass in mg  ∆Hm in Jg-1  \\\n",
       "0         0-PE-1_1                           0-PE-6        1.17       108.10   \n",
       "1         0-PE-1_2                           0-PE-7        1.22       107.90   \n",
       "2         0-PE-1_3                           0-PE-8        1.19       108.10   \n",
       "3         0-PE-1_4                           0-PE-9        1.27       109.40   \n",
       "4         0-PE-1_5                          0-PE-10        1.41       107.10   \n",
       "..             ...                              ...         ...          ...   \n",
       "270  3-EBT-PET-4_1                        eb-PET-62        1.18        36.62   \n",
       "271  3-EBT-PET-4_2                        eb-PET-63        1.27        36.95   \n",
       "272  3-EBT-PET-4_3                        eb-PET-64        1.30        36.87   \n",
       "273  3-EBT-PET-4_4                        eb-PET-65        1.21        36.30   \n",
       "274  3-EBT-PET-4_5                        eb-PET-66        1.15        37.02   \n",
       "\n",
       "         Segment Polymer  TStart in °C  TEnd in °C  Tm in °C   Tm       Hm  \\\n",
       "0    2nd Heating      PE         50.00      118.38     107.7  108  8.79001   \n",
       "1    2nd Heating      PE         50.00      119.30     107.7  108  8.76131   \n",
       "2    2nd Heating      PE         50.00      118.90     107.6  108  8.71668   \n",
       "3    2nd Heating      PE         50.00      118.20     107.7  108  8.40655   \n",
       "4    2nd Heating      PE         50.00      119.00     107.8  108  7.96444   \n",
       "..           ...     ...           ...         ...       ...  ...      ...   \n",
       "270  2nd Heating     PET        205.46      254.29     239.9  240  6.79035   \n",
       "271  2nd Heating     PET        201.99      251.99     239.9  240  6.08880   \n",
       "272  2nd Heating     PET        202.37      251.33     240.0  240  6.31048   \n",
       "273  2nd Heating     PET        198.86      256.10     239.3  239  6.60616   \n",
       "274  2nd Heating     PET        201.98      250.86     240.2  240  6.85982   \n",
       "\n",
       "    Modality  Tail   Shoulder            Aging Level  \n",
       "0      sharp  left  undefined  Pristine LDPE and PET  \n",
       "1      sharp  left  undefined  Pristine LDPE and PET  \n",
       "2      sharp  left  undefined  Pristine LDPE and PET  \n",
       "3      sharp  left  undefined  Pristine LDPE and PET  \n",
       "4      sharp  left  undefined  Pristine LDPE and PET  \n",
       "..       ...   ...        ...                    ...  \n",
       "270     wide  left  undefined              Third EBT  \n",
       "271     wide  left  undefined              Third EBT  \n",
       "272     wide  left  undefined              Third EBT  \n",
       "273     wide  left  undefined              Third EBT  \n",
       "274     wide  left  undefined              Third EBT  \n",
       "\n",
       "[275 rows x 15 columns]"
      ]
     },
     "execution_count": 4,
     "metadata": {},
     "output_type": "execute_result"
    }
   ],
   "source": [
    "file_path_data = \"data/050_Data_2st_Heating.csv\"\n",
    "\n",
    "df_data = pd.read_csv(file_path_data)\n",
    "df_data"
   ]
  },
  {
   "cell_type": "code",
   "execution_count": 5,
   "id": "80c8d203",
   "metadata": {},
   "outputs": [
    {
     "name": "stdout",
     "output_type": "stream",
     "text": [
      "Pristine LDPE and PET\n",
      "First UV-cycle (4 weeks irradiation)\n",
      "Second UV-cycle (8 weeks irradiation)\n",
      "Third UV-cycle (12 weks irradiation)\n",
      "First EBT\n",
      "Second EBT\n",
      "Third EBT\n"
     ]
    }
   ],
   "source": [
    "for v in df_data[\"Aging Level\"].unique():\n",
    "    print(v)"
   ]
  },
  {
   "cell_type": "code",
   "execution_count": 6,
   "id": "722b13f5",
   "metadata": {},
   "outputs": [
    {
     "data": {
      "text/plain": [
       "Index(['Sample Name', 'Name of Original DSC Measurement', 'Mass in mg',\n",
       "       '∆Hm in Jg-1', 'Segment', 'Polymer', 'TStart in °C', 'TEnd in °C',\n",
       "       'Tm in °C', 'Tm', 'Hm', 'Modality', 'Tail', 'Shoulder', 'Aging Level'],\n",
       "      dtype='object')"
      ]
     },
     "execution_count": 6,
     "metadata": {},
     "output_type": "execute_result"
    }
   ],
   "source": [
    "df_data.columns"
   ]
  },
  {
   "cell_type": "code",
   "execution_count": 7,
   "id": "2e13a667",
   "metadata": {},
   "outputs": [
    {
     "name": "stdout",
     "output_type": "stream",
     "text": [
      "Modality\n",
      "bimodal    139\n",
      "sharp       78\n",
      "wide        56\n",
      "quasi        2\n",
      "Name: count, dtype: int64\n",
      "\n",
      "Tail\n",
      "left    275\n",
      "Name: count, dtype: int64\n",
      "\n",
      "Shoulder\n",
      "undefined    275\n",
      "Name: count, dtype: int64\n"
     ]
    }
   ],
   "source": [
    "# Häufigkeiten der Werte für jede Spalte berechnen und einzeln anzeigen\n",
    "print(f\"{df_data['Modality'].value_counts()}\\n\")\n",
    "print(f\"{df_data['Tail'].value_counts()}\\n\")\n",
    "print(f\"{df_data['Shoulder'].value_counts()}\")"
   ]
  },
  {
   "cell_type": "markdown",
   "id": "76936910",
   "metadata": {},
   "source": [
    "## A) Random Forest Classifier (without Hm)"
   ]
  },
  {
   "cell_type": "code",
   "execution_count": 9,
   "id": "7488fa3d",
   "metadata": {},
   "outputs": [],
   "source": [
    "# Datenvorbereitung\n",
    "\n",
    "# ohne 'Sample Name', 'Name of Original DSC Measurement', 'Mass in mg'\n",
    "features = [\n",
    "    '∆Hm in Jg-1', 'TStart in °C', 'TEnd in °C', 'Tm in °C',\n",
    "    'Polymer',\n",
    "    'Modality'\n",
    "]\n",
    "target = 'Aging Level'\n",
    "\n",
    "# Merkmalsauswahl und Zielspalte\n",
    "X = df_data[features]\n",
    "y = df_data[target]"
   ]
  },
  {
   "cell_type": "code",
   "execution_count": 10,
   "id": "436c3d2e",
   "metadata": {},
   "outputs": [],
   "source": [
    "# Kategorische Variablen in numerische Form umwandeln\n",
    "X = pd.get_dummies(X)\n",
    "label_encoder = LabelEncoder()\n",
    "y = label_encoder.fit_transform(y)\n",
    "\n",
    "# Feature Scaling\n",
    "scaler = StandardScaler()\n",
    "X_scaled = scaler.fit_transform(X)"
   ]
  },
  {
   "cell_type": "code",
   "execution_count": 11,
   "id": "ede7630b",
   "metadata": {},
   "outputs": [],
   "source": [
    "# Train-Test-Split\n",
    "X_train, X_test, y_train, y_test = train_test_split(X_scaled, y, test_size=0.2, random_state=42)"
   ]
  },
  {
   "cell_type": "code",
   "execution_count": 12,
   "id": "ad16a83e",
   "metadata": {},
   "outputs": [
    {
     "name": "stdout",
     "output_type": "stream",
     "text": [
      "Accuracy: 0.7636363636363637\n",
      "                                       precision    recall  f1-score   support\n",
      "\n",
      "                            First EBT       0.38      0.43      0.40         7\n",
      " First UV-cycle (4 weeks irradiation)       1.00      0.88      0.93         8\n",
      "                Pristine LDPE and PET       0.86      0.75      0.80         8\n",
      "                           Second EBT       0.64      0.64      0.64        11\n",
      "Second UV-cycle (8 weeks irradiation)       0.67      0.86      0.75         7\n",
      "                            Third EBT       1.00      1.00      1.00         6\n",
      " Third UV-cycle (12 weks irradiation)       1.00      0.88      0.93         8\n",
      "\n",
      "                             accuracy                           0.76        55\n",
      "                            macro avg       0.79      0.77      0.78        55\n",
      "                         weighted avg       0.78      0.76      0.77        55\n",
      "\n"
     ]
    }
   ],
   "source": [
    "# Random Forest Modell\n",
    "rf_model = RandomForestClassifier(random_state=42)\n",
    "rf_model.fit(X_train, y_train)\n",
    "\n",
    "# Vorhersage\n",
    "y_pred = rf_model.predict(X_test)\n",
    "\n",
    "# Bewertung\n",
    "accuracy = accuracy_score(y_test, y_pred)\n",
    "report = classification_report(y_test, y_pred, target_names=label_encoder.classes_)\n",
    "\n",
    "print(f\"Accuracy: {accuracy}\")\n",
    "print(report)"
   ]
  },
  {
   "cell_type": "code",
   "execution_count": 13,
   "id": "112eac25",
   "metadata": {},
   "outputs": [
    {
     "data": {
      "image/png": "[encoded data removed]",
      "text/plain": [
       "<Figure size 1200x800 with 1 Axes>"
      ]
     },
     "metadata": {},
     "output_type": "display_data"
    }
   ],
   "source": [
    "import matplotlib.pyplot as plt\n",
    "import pandas as pd\n",
    "import numpy as np\n",
    "\n",
    "# Feature-Wichtigkeiten extrahieren\n",
    "feature_importance = rf_model.feature_importances_\n",
    "features = X.columns  # Nach get_dummies\n",
    "\n",
    "# Sortieren und Visualisieren\n",
    "importance_df = pd.DataFrame({'Feature': features, 'Importance': feature_importance})\n",
    "importance_df = importance_df.sort_values(by='Importance', ascending=False)\n",
    "\n",
    "# Top 10 Features auswählen\n",
    "top_10_features = importance_df.head(10)\n",
    "\n",
    "plt.figure(figsize=(12, 8))  # Breite und Höhe anpassen\n",
    "plt.barh(top_10_features['Feature'], top_10_features['Importance'], height=0.7, color=\"steelblue\")\n",
    "plt.title('Top 10 Feature Importance', fontsize=18)\n",
    "plt.xlabel('Importance', fontsize=14)\n",
    "plt.ylabel('Features', fontsize=14)\n",
    "plt.yticks(fontsize=12)  # Lesbare Schriftgröße\n",
    "plt.gca().invert_yaxis()  # Sortierung von oben nach unten\n",
    "plt.tight_layout()\n",
    "plt.show()"
   ]
  },
  {
   "cell_type": "code",
   "execution_count": 14,
   "id": "98994c1f",
   "metadata": {},
   "outputs": [
    {
     "data": {
      "text/plain": [
       "{0: 0.6727272727272727,\n",
       " 1: 0.8,\n",
       " 2: 0.7818181818181819,\n",
       " 3: 0.7454545454545455,\n",
       " 10: 0.8181818181818182,\n",
       " 20: 0.8363636363636363,\n",
       " 42: 0.7636363636363637,\n",
       " 70: 0.6545454545454545,\n",
       " 100: 0.7272727272727273,\n",
       " 1000: 0.8727272727272727}"
      ]
     },
     "execution_count": 14,
     "metadata": {},
     "output_type": "execute_result"
    }
   ],
   "source": [
    "# Testen mit verschiedenen random_states\n",
    "random_states = [0, 1, 2, 3, 10, 20, 42, 70, 100, 1000]\n",
    "results = {}\n",
    "\n",
    "for state in random_states:\n",
    "    # Train-Test-Split\n",
    "    X_train, X_test, y_train, y_test = train_test_split(X_scaled, y, test_size=0.2, random_state=state)\n",
    "    \n",
    "    # Random Forest Modell\n",
    "    rf_model = RandomForestClassifier(random_state=state)\n",
    "    rf_model.fit(X_train, y_train)\n",
    "    \n",
    "    # Vorhersage\n",
    "    y_pred = rf_model.predict(X_test)\n",
    "    \n",
    "    # Bewertung\n",
    "    accuracy = accuracy_score(y_test, y_pred)\n",
    "    results[state] = accuracy\n",
    "\n",
    "results"
   ]
  },
  {
   "cell_type": "markdown",
   "id": "7f878c76",
   "metadata": {},
   "source": [
    "## B) Random Forest Classifier (with Hm)"
   ]
  },
  {
   "cell_type": "code",
   "execution_count": 16,
   "id": "de5d242a",
   "metadata": {},
   "outputs": [
    {
     "name": "stdout",
     "output_type": "stream",
     "text": [
      "Accuracy: 0.8181818181818182\n",
      "                                       precision    recall  f1-score   support\n",
      "\n",
      "                            First EBT       0.60      0.86      0.71         7\n",
      " First UV-cycle (4 weeks irradiation)       1.00      0.88      0.93         8\n",
      "                Pristine LDPE and PET       0.88      0.88      0.88         8\n",
      "                           Second EBT       0.80      0.73      0.76        11\n",
      "Second UV-cycle (8 weeks irradiation)       0.86      0.86      0.86         7\n",
      "                            Third EBT       0.86      1.00      0.92         6\n",
      " Third UV-cycle (12 weks irradiation)       0.83      0.62      0.71         8\n",
      "\n",
      "                             accuracy                           0.82        55\n",
      "                            macro avg       0.83      0.83      0.82        55\n",
      "                         weighted avg       0.83      0.82      0.82        55\n",
      "\n"
     ]
    }
   ],
   "source": [
    "# Datenvorbereitung\n",
    "# ohne 'Sample Name', 'Name of Original DSC Measurement', 'Mass in mg'\n",
    "features = [\n",
    "    '∆Hm in Jg-1', 'TStart in °C', 'TEnd in °C', 'Tm in °C',\n",
    "    'Polymer',\n",
    "    'Hm',\n",
    "    'Modality'\n",
    "]\n",
    "target = 'Aging Level'\n",
    "\n",
    "# Merkmalsauswahl und Zielspalte\n",
    "X = df_data[features]\n",
    "y = df_data[target]\n",
    "\n",
    "\n",
    "# Kategorische Variablen in numerische Form umwandeln\n",
    "X = pd.get_dummies(X)\n",
    "label_encoder = LabelEncoder()\n",
    "y = label_encoder.fit_transform(y)\n",
    "\n",
    "# Feature Scaling\n",
    "scaler = StandardScaler()\n",
    "X_scaled = scaler.fit_transform(X)\n",
    "\n",
    "# Train-Test-Split\n",
    "X_train, X_test, y_train, y_test = train_test_split(X_scaled, y, test_size=0.2, random_state=42)\n",
    "\n",
    "\n",
    "# Random Forest Modell\n",
    "rf_model = RandomForestClassifier(random_state=42)\n",
    "rf_model.fit(X_train, y_train)\n",
    "\n",
    "# Vorhersage\n",
    "y_pred = rf_model.predict(X_test)\n",
    "\n",
    "# Bewertung\n",
    "accuracy = accuracy_score(y_test, y_pred)\n",
    "report = classification_report(y_test, y_pred, target_names=label_encoder.classes_)\n",
    "\n",
    "print(f\"Accuracy: {accuracy}\")\n",
    "print(report)"
   ]
  },
  {
   "cell_type": "code",
   "execution_count": 17,
   "id": "9ff5d571",
   "metadata": {},
   "outputs": [
    {
     "data": {
      "image/png": "[encoded data removed]",
      "text/plain": [
       "<Figure size 1200x800 with 1 Axes>"
      ]
     },
     "metadata": {},
     "output_type": "display_data"
    }
   ],
   "source": [
    "import matplotlib.pyplot as plt\n",
    "import pandas as pd\n",
    "import numpy as np\n",
    "\n",
    "# Feature-Wichtigkeiten extrahieren\n",
    "feature_importance = rf_model.feature_importances_\n",
    "features = X.columns  # Nach get_dummies\n",
    "\n",
    "# Sortieren und Visualisieren\n",
    "importance_df = pd.DataFrame({'Feature': features, 'Importance': feature_importance})\n",
    "importance_df = importance_df.sort_values(by='Importance', ascending=False)\n",
    "\n",
    "# Top 10 Features auswählen\n",
    "top_10_features = importance_df.head(10)\n",
    "\n",
    "plt.figure(figsize=(12, 8))  # Breite und Höhe anpassen\n",
    "plt.barh(top_10_features['Feature'], top_10_features['Importance'], height=0.7, color=\"steelblue\")\n",
    "plt.title('Top 10 Feature Importance', fontsize=18)\n",
    "plt.xlabel('Importance', fontsize=14)\n",
    "plt.ylabel('Features', fontsize=14)\n",
    "plt.yticks(fontsize=12)  # Lesbare Schriftgröße\n",
    "plt.gca().invert_yaxis()  # Sortierung von oben nach unten\n",
    "plt.tight_layout()\n",
    "plt.show()"
   ]
  },
  {
   "cell_type": "code",
   "execution_count": 18,
   "id": "ec3888a1",
   "metadata": {},
   "outputs": [
    {
     "data": {
      "text/plain": [
       "{0: 0.8727272727272727,\n",
       " 1: 0.9636363636363636,\n",
       " 2: 0.9090909090909091,\n",
       " 3: 0.8727272727272727,\n",
       " 10: 0.9454545454545454,\n",
       " 20: 0.9454545454545454,\n",
       " 42: 0.8181818181818182,\n",
       " 70: 0.9272727272727272,\n",
       " 100: 0.9090909090909091,\n",
       " 1000: 0.9818181818181818}"
      ]
     },
     "execution_count": 18,
     "metadata": {},
     "output_type": "execute_result"
    }
   ],
   "source": [
    "# Testen mit verschiedenen random_states\n",
    "random_states = [0, 1, 2, 3, 10, 20, 42, 70, 100, 1000]\n",
    "results = {}\n",
    "\n",
    "for state in random_states:\n",
    "    # Train-Test-Split\n",
    "    X_train, X_test, y_train, y_test = train_test_split(X_scaled, y, test_size=0.2, random_state=state)\n",
    "    \n",
    "    # Random Forest Modell\n",
    "    rf_model = RandomForestClassifier(random_state=state)\n",
    "    rf_model.fit(X_train, y_train)\n",
    "    \n",
    "    # Vorhersage\n",
    "    y_pred = rf_model.predict(X_test)\n",
    "    \n",
    "    # Bewertung\n",
    "    accuracy = accuracy_score(y_test, y_pred)\n",
    "    results[state] = accuracy\n",
    "\n",
    "results"
   ]
  },
  {
   "cell_type": "code",
   "execution_count": 26,
   "id": "7e77952c-fa28-4b7b-864d-5fe64b0082ac",
   "metadata": {},
   "outputs": [
    {
     "ename": "AttributeError",
     "evalue": "'builtin_function_or_method' object has no attribute 'mean'",
     "output_type": "error",
     "traceback": [
      "\u001b[1;31m---------------------------------------------------------------------------\u001b[0m",
      "\u001b[1;31mAttributeError\u001b[0m                            Traceback (most recent call last)",
      "Cell \u001b[1;32mIn[26], line 1\u001b[0m\n\u001b[1;32m----> 1\u001b[0m results\u001b[38;5;241m.\u001b[39mvalues\u001b[38;5;241m.\u001b[39mmean\n",
      "\u001b[1;31mAttributeError\u001b[0m: 'builtin_function_or_method' object has no attribute 'mean'"
     ]
    }
   ],
   "source": [
    "results.values.mean"
   ]
  },
  {
   "cell_type": "code",
   "execution_count": 34,
   "id": "e70b5d96-fb29-4936-b49a-c7b0ba2272b3",
   "metadata": {},
   "outputs": [
    {
     "name": "stdout",
     "output_type": "stream",
     "text": [
      "Ø Genauigkeit: 0.9145454545454544\n"
     ]
    }
   ],
   "source": [
    "mean_value = sum(results.values()) / len(results)\n",
    "print(f\"Ø Genauigkeit: {mean_value}\")"
   ]
  },
  {
   "cell_type": "code",
   "execution_count": null,
   "id": "8f5a20ac-dd76-4f34-bf40-62cc70b08e6e",
   "metadata": {},
   "outputs": [],
   "source": []
  }
 ],
 "metadata": {
  "kernelspec": {
   "display_name": "Python [conda env:base] *",
   "language": "python",
   "name": "conda-base-py"
  },
  "language_info": {
   "codemirror_mode": {
    "name": "ipython",
    "version": 3
   },
   "file_extension": ".py",
   "mimetype": "text/x-python",
   "name": "python",
   "nbconvert_exporter": "python",
   "pygments_lexer": "ipython3",
   "version": "3.12.7"
  }
 },
 "nbformat": 4,
 "nbformat_minor": 5
}
