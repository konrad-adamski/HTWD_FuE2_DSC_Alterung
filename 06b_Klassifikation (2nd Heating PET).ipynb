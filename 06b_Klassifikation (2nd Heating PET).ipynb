{
 "cells": [
  {
   "cell_type": "markdown",
   "id": "03dcd478-20cd-48ca-8183-eef92e7af433",
   "metadata": {},
   "source": [
    "# Klassifikation (für PET)\n",
    "**Feature:**\n",
    "- '∆Hm in Jg-1',\n",
    "-  'TStart in °C'\n",
    "-  'TEnd in °C'\n",
    "-  'Tm in °C'\n",
    "-  (Hm)\n",
    "-  'Modality'\n",
    "\n",
    "**Target:** 'Aging Level'"
   ]
  },
  {
   "cell_type": "code",
   "execution_count": 2,
   "id": "9a96d4d8",
   "metadata": {},
   "outputs": [],
   "source": [
    "from sklearn.model_selection import train_test_split\n",
    "from sklearn.ensemble import RandomForestClassifier\n",
    "from sklearn.preprocessing import LabelEncoder, StandardScaler\n",
    "from sklearn.metrics import classification_report, accuracy_score"
   ]
  },
  {
   "cell_type": "code",
   "execution_count": 3,
   "id": "13ac8379",
   "metadata": {},
   "outputs": [],
   "source": [
    "import pandas as pd"
   ]
  },
  {
   "cell_type": "code",
   "execution_count": 4,
   "id": "d38c6f73",
   "metadata": {},
   "outputs": [
    {
     "data": {
      "text/html": [
       "<div>\n",
       "<style scoped>\n",
       "    .dataframe tbody tr th:only-of-type {\n",
       "        vertical-align: middle;\n",
       "    }\n",
       "\n",
       "    .dataframe tbody tr th {\n",
       "        vertical-align: top;\n",
       "    }\n",
       "\n",
       "    .dataframe thead th {\n",
       "        text-align: right;\n",
       "    }\n",
       "</style>\n",
       "<table border=\"1\" class=\"dataframe\">\n",
       "  <thead>\n",
       "    <tr style=\"text-align: right;\">\n",
       "      <th></th>\n",
       "      <th>Sample Name</th>\n",
       "      <th>Name of Original DSC Measurement</th>\n",
       "      <th>Mass in mg</th>\n",
       "      <th>∆Hm in Jg-1</th>\n",
       "      <th>Segment</th>\n",
       "      <th>Polymer</th>\n",
       "      <th>TStart in °C</th>\n",
       "      <th>TEnd in °C</th>\n",
       "      <th>Tm in °C</th>\n",
       "      <th>Tm</th>\n",
       "      <th>Hm</th>\n",
       "      <th>Modality</th>\n",
       "      <th>Tail</th>\n",
       "      <th>Shoulder</th>\n",
       "      <th>Aging Level</th>\n",
       "    </tr>\n",
       "  </thead>\n",
       "  <tbody>\n",
       "    <tr>\n",
       "      <th>0</th>\n",
       "      <td>0-PET-1_1</td>\n",
       "      <td>0-PET-1</td>\n",
       "      <td>1.44</td>\n",
       "      <td>28.88</td>\n",
       "      <td>2nd Heating</td>\n",
       "      <td>PET</td>\n",
       "      <td>200.00</td>\n",
       "      <td>253.77</td>\n",
       "      <td>230.2</td>\n",
       "      <td>230</td>\n",
       "      <td>2.99577</td>\n",
       "      <td>bimodal</td>\n",
       "      <td>left</td>\n",
       "      <td>undefined</td>\n",
       "      <td>Pristine LDPE and PET</td>\n",
       "    </tr>\n",
       "    <tr>\n",
       "      <th>1</th>\n",
       "      <td>0-PET-1_2</td>\n",
       "      <td>0-PET-2</td>\n",
       "      <td>1.35</td>\n",
       "      <td>30.34</td>\n",
       "      <td>2nd Heating</td>\n",
       "      <td>PET</td>\n",
       "      <td>200.79</td>\n",
       "      <td>256.30</td>\n",
       "      <td>230.5</td>\n",
       "      <td>230</td>\n",
       "      <td>2.78461</td>\n",
       "      <td>bimodal</td>\n",
       "      <td>left</td>\n",
       "      <td>undefined</td>\n",
       "      <td>Pristine LDPE and PET</td>\n",
       "    </tr>\n",
       "    <tr>\n",
       "      <th>2</th>\n",
       "      <td>0-PET-1_3</td>\n",
       "      <td>0-PET-3</td>\n",
       "      <td>1.39</td>\n",
       "      <td>30.00</td>\n",
       "      <td>2nd Heating</td>\n",
       "      <td>PET</td>\n",
       "      <td>200.00</td>\n",
       "      <td>254.25</td>\n",
       "      <td>229.8</td>\n",
       "      <td>230</td>\n",
       "      <td>3.05761</td>\n",
       "      <td>bimodal</td>\n",
       "      <td>left</td>\n",
       "      <td>undefined</td>\n",
       "      <td>Pristine LDPE and PET</td>\n",
       "    </tr>\n",
       "    <tr>\n",
       "      <th>3</th>\n",
       "      <td>0-PET-1_4</td>\n",
       "      <td>0-PET-4</td>\n",
       "      <td>1.28</td>\n",
       "      <td>29.29</td>\n",
       "      <td>2nd Heating</td>\n",
       "      <td>PET</td>\n",
       "      <td>200.00</td>\n",
       "      <td>254.59</td>\n",
       "      <td>230.2</td>\n",
       "      <td>230</td>\n",
       "      <td>2.95315</td>\n",
       "      <td>bimodal</td>\n",
       "      <td>left</td>\n",
       "      <td>undefined</td>\n",
       "      <td>Pristine LDPE and PET</td>\n",
       "    </tr>\n",
       "    <tr>\n",
       "      <th>4</th>\n",
       "      <td>0-PET-1_5</td>\n",
       "      <td>0-PET-5</td>\n",
       "      <td>1.34</td>\n",
       "      <td>31.94</td>\n",
       "      <td>2nd Heating</td>\n",
       "      <td>PET</td>\n",
       "      <td>200.00</td>\n",
       "      <td>255.31</td>\n",
       "      <td>229.7</td>\n",
       "      <td>230</td>\n",
       "      <td>2.76109</td>\n",
       "      <td>bimodal</td>\n",
       "      <td>left</td>\n",
       "      <td>undefined</td>\n",
       "      <td>Pristine LDPE and PET</td>\n",
       "    </tr>\n",
       "    <tr>\n",
       "      <th>...</th>\n",
       "      <td>...</td>\n",
       "      <td>...</td>\n",
       "      <td>...</td>\n",
       "      <td>...</td>\n",
       "      <td>...</td>\n",
       "      <td>...</td>\n",
       "      <td>...</td>\n",
       "      <td>...</td>\n",
       "      <td>...</td>\n",
       "      <td>...</td>\n",
       "      <td>...</td>\n",
       "      <td>...</td>\n",
       "      <td>...</td>\n",
       "      <td>...</td>\n",
       "      <td>...</td>\n",
       "    </tr>\n",
       "    <tr>\n",
       "      <th>133</th>\n",
       "      <td>3-EBT-PET-4_1</td>\n",
       "      <td>eb-PET-62</td>\n",
       "      <td>1.18</td>\n",
       "      <td>36.62</td>\n",
       "      <td>2nd Heating</td>\n",
       "      <td>PET</td>\n",
       "      <td>205.46</td>\n",
       "      <td>254.29</td>\n",
       "      <td>239.9</td>\n",
       "      <td>240</td>\n",
       "      <td>6.79035</td>\n",
       "      <td>wide</td>\n",
       "      <td>left</td>\n",
       "      <td>undefined</td>\n",
       "      <td>Third EBT</td>\n",
       "    </tr>\n",
       "    <tr>\n",
       "      <th>134</th>\n",
       "      <td>3-EBT-PET-4_2</td>\n",
       "      <td>eb-PET-63</td>\n",
       "      <td>1.27</td>\n",
       "      <td>36.95</td>\n",
       "      <td>2nd Heating</td>\n",
       "      <td>PET</td>\n",
       "      <td>201.99</td>\n",
       "      <td>251.99</td>\n",
       "      <td>239.9</td>\n",
       "      <td>240</td>\n",
       "      <td>6.08880</td>\n",
       "      <td>wide</td>\n",
       "      <td>left</td>\n",
       "      <td>undefined</td>\n",
       "      <td>Third EBT</td>\n",
       "    </tr>\n",
       "    <tr>\n",
       "      <th>135</th>\n",
       "      <td>3-EBT-PET-4_3</td>\n",
       "      <td>eb-PET-64</td>\n",
       "      <td>1.30</td>\n",
       "      <td>36.87</td>\n",
       "      <td>2nd Heating</td>\n",
       "      <td>PET</td>\n",
       "      <td>202.37</td>\n",
       "      <td>251.33</td>\n",
       "      <td>240.0</td>\n",
       "      <td>240</td>\n",
       "      <td>6.31048</td>\n",
       "      <td>wide</td>\n",
       "      <td>left</td>\n",
       "      <td>undefined</td>\n",
       "      <td>Third EBT</td>\n",
       "    </tr>\n",
       "    <tr>\n",
       "      <th>136</th>\n",
       "      <td>3-EBT-PET-4_4</td>\n",
       "      <td>eb-PET-65</td>\n",
       "      <td>1.21</td>\n",
       "      <td>36.30</td>\n",
       "      <td>2nd Heating</td>\n",
       "      <td>PET</td>\n",
       "      <td>198.86</td>\n",
       "      <td>256.10</td>\n",
       "      <td>239.3</td>\n",
       "      <td>239</td>\n",
       "      <td>6.60616</td>\n",
       "      <td>wide</td>\n",
       "      <td>left</td>\n",
       "      <td>undefined</td>\n",
       "      <td>Third EBT</td>\n",
       "    </tr>\n",
       "    <tr>\n",
       "      <th>137</th>\n",
       "      <td>3-EBT-PET-4_5</td>\n",
       "      <td>eb-PET-66</td>\n",
       "      <td>1.15</td>\n",
       "      <td>37.02</td>\n",
       "      <td>2nd Heating</td>\n",
       "      <td>PET</td>\n",
       "      <td>201.98</td>\n",
       "      <td>250.86</td>\n",
       "      <td>240.2</td>\n",
       "      <td>240</td>\n",
       "      <td>6.85982</td>\n",
       "      <td>wide</td>\n",
       "      <td>left</td>\n",
       "      <td>undefined</td>\n",
       "      <td>Third EBT</td>\n",
       "    </tr>\n",
       "  </tbody>\n",
       "</table>\n",
       "<p>138 rows × 15 columns</p>\n",
       "</div>"
      ],
      "text/plain": [
       "       Sample Name Name of Original DSC Measurement  Mass in mg  ∆Hm in Jg-1  \\\n",
       "0        0-PET-1_1                          0-PET-1        1.44        28.88   \n",
       "1        0-PET-1_2                          0-PET-2        1.35        30.34   \n",
       "2        0-PET-1_3                          0-PET-3        1.39        30.00   \n",
       "3        0-PET-1_4                          0-PET-4        1.28        29.29   \n",
       "4        0-PET-1_5                          0-PET-5        1.34        31.94   \n",
       "..             ...                              ...         ...          ...   \n",
       "133  3-EBT-PET-4_1                        eb-PET-62        1.18        36.62   \n",
       "134  3-EBT-PET-4_2                        eb-PET-63        1.27        36.95   \n",
       "135  3-EBT-PET-4_3                        eb-PET-64        1.30        36.87   \n",
       "136  3-EBT-PET-4_4                        eb-PET-65        1.21        36.30   \n",
       "137  3-EBT-PET-4_5                        eb-PET-66        1.15        37.02   \n",
       "\n",
       "         Segment Polymer  TStart in °C  TEnd in °C  Tm in °C   Tm       Hm  \\\n",
       "0    2nd Heating     PET        200.00      253.77     230.2  230  2.99577   \n",
       "1    2nd Heating     PET        200.79      256.30     230.5  230  2.78461   \n",
       "2    2nd Heating     PET        200.00      254.25     229.8  230  3.05761   \n",
       "3    2nd Heating     PET        200.00      254.59     230.2  230  2.95315   \n",
       "4    2nd Heating     PET        200.00      255.31     229.7  230  2.76109   \n",
       "..           ...     ...           ...         ...       ...  ...      ...   \n",
       "133  2nd Heating     PET        205.46      254.29     239.9  240  6.79035   \n",
       "134  2nd Heating     PET        201.99      251.99     239.9  240  6.08880   \n",
       "135  2nd Heating     PET        202.37      251.33     240.0  240  6.31048   \n",
       "136  2nd Heating     PET        198.86      256.10     239.3  239  6.60616   \n",
       "137  2nd Heating     PET        201.98      250.86     240.2  240  6.85982   \n",
       "\n",
       "    Modality  Tail   Shoulder            Aging Level  \n",
       "0    bimodal  left  undefined  Pristine LDPE and PET  \n",
       "1    bimodal  left  undefined  Pristine LDPE and PET  \n",
       "2    bimodal  left  undefined  Pristine LDPE and PET  \n",
       "3    bimodal  left  undefined  Pristine LDPE and PET  \n",
       "4    bimodal  left  undefined  Pristine LDPE and PET  \n",
       "..       ...   ...        ...                    ...  \n",
       "133     wide  left  undefined              Third EBT  \n",
       "134     wide  left  undefined              Third EBT  \n",
       "135     wide  left  undefined              Third EBT  \n",
       "136     wide  left  undefined              Third EBT  \n",
       "137     wide  left  undefined              Third EBT  \n",
       "\n",
       "[138 rows x 15 columns]"
      ]
     },
     "execution_count": 4,
     "metadata": {},
     "output_type": "execute_result"
    }
   ],
   "source": [
    "file_path_data = \"data/051_Data_2st_Heating_PET.csv\"\n",
    "\n",
    "df_data = pd.read_csv(file_path_data)\n",
    "df_data"
   ]
  },
  {
   "cell_type": "code",
   "execution_count": 5,
   "id": "80c8d203",
   "metadata": {},
   "outputs": [
    {
     "name": "stdout",
     "output_type": "stream",
     "text": [
      "Pristine LDPE and PET\n",
      "First UV-cycle (4 weeks irradiation)\n",
      "Second UV-cycle (8 weeks irradiation)\n",
      "Third UV-cycle (12 weks irradiation)\n",
      "First EBT\n",
      "Second EBT\n",
      "Third EBT\n"
     ]
    }
   ],
   "source": [
    "for v in df_data[\"Aging Level\"].unique():\n",
    "    print(v)"
   ]
  },
  {
   "cell_type": "code",
   "execution_count": 6,
   "id": "722b13f5",
   "metadata": {},
   "outputs": [
    {
     "data": {
      "text/plain": [
       "Index(['Sample Name', 'Name of Original DSC Measurement', 'Mass in mg',\n",
       "       '∆Hm in Jg-1', 'Segment', 'Polymer', 'TStart in °C', 'TEnd in °C',\n",
       "       'Tm in °C', 'Tm', 'Hm', 'Modality', 'Tail', 'Shoulder', 'Aging Level'],\n",
       "      dtype='object')"
      ]
     },
     "execution_count": 6,
     "metadata": {},
     "output_type": "execute_result"
    }
   ],
   "source": [
    "df_data.columns"
   ]
  },
  {
   "cell_type": "code",
   "execution_count": 7,
   "id": "2e13a667",
   "metadata": {},
   "outputs": [
    {
     "name": "stdout",
     "output_type": "stream",
     "text": [
      "Modality\n",
      "bimodal    119\n",
      "wide        17\n",
      "quasi        2\n",
      "Name: count, dtype: int64\n",
      "\n",
      "Tail\n",
      "left    138\n",
      "Name: count, dtype: int64\n",
      "\n",
      "Shoulder\n",
      "undefined    138\n",
      "Name: count, dtype: int64\n"
     ]
    }
   ],
   "source": [
    "# Häufigkeiten der Werte für jede Spalte berechnen und einzeln anzeigen\n",
    "print(f\"{df_data['Modality'].value_counts()}\\n\")\n",
    "print(f\"{df_data['Tail'].value_counts()}\\n\")\n",
    "print(f\"{df_data['Shoulder'].value_counts()}\")"
   ]
  },
  {
   "cell_type": "markdown",
   "id": "76936910",
   "metadata": {},
   "source": [
    "## A) Random Forest Classifier (without Hm)"
   ]
  },
  {
   "cell_type": "code",
   "execution_count": 9,
   "id": "7488fa3d",
   "metadata": {},
   "outputs": [],
   "source": [
    "# Datenvorbereitung\n",
    "\n",
    "# ohne 'Sample Name', 'Name of Original DSC Measurement', 'Mass in mg'\n",
    "features = [\n",
    "    '∆Hm in Jg-1', 'TStart in °C', 'TEnd in °C', 'Tm in °C',\n",
    "    'Modality'\n",
    "]\n",
    "target = 'Aging Level'\n",
    "\n",
    "# Merkmalsauswahl und Zielspalte\n",
    "X = df_data[features]\n",
    "y = df_data[target]"
   ]
  },
  {
   "cell_type": "code",
   "execution_count": 10,
   "id": "436c3d2e",
   "metadata": {},
   "outputs": [],
   "source": [
    "# Kategorische Variablen in numerische Form umwandeln\n",
    "X = pd.get_dummies(X)\n",
    "label_encoder = LabelEncoder()\n",
    "y = label_encoder.fit_transform(y)\n",
    "\n",
    "# Feature Scaling\n",
    "scaler = StandardScaler()\n",
    "X_scaled = scaler.fit_transform(X)"
   ]
  },
  {
   "cell_type": "code",
   "execution_count": 11,
   "id": "ede7630b",
   "metadata": {},
   "outputs": [],
   "source": [
    "# Train-Test-Split\n",
    "X_train, X_test, y_train, y_test = train_test_split(X_scaled, y, test_size=0.2, random_state=42)"
   ]
  },
  {
   "cell_type": "code",
   "execution_count": 12,
   "id": "ad16a83e",
   "metadata": {},
   "outputs": [
    {
     "name": "stdout",
     "output_type": "stream",
     "text": [
      "Accuracy: 0.5714285714285714\n",
      "                                       precision    recall  f1-score   support\n",
      "\n",
      "                            First EBT       0.18      0.67      0.29         3\n",
      " First UV-cycle (4 weeks irradiation)       1.00      1.00      1.00         5\n",
      "                Pristine LDPE and PET       1.00      0.75      0.86         4\n",
      "                           Second EBT       0.00      0.00      0.00         6\n",
      "Second UV-cycle (8 weeks irradiation)       0.67      0.67      0.67         3\n",
      "                            Third EBT       1.00      1.00      1.00         1\n",
      " Third UV-cycle (12 weks irradiation)       0.75      0.50      0.60         6\n",
      "\n",
      "                             accuracy                           0.57        28\n",
      "                            macro avg       0.66      0.65      0.63        28\n",
      "                         weighted avg       0.61      0.57      0.57        28\n",
      "\n"
     ]
    }
   ],
   "source": [
    "# Random Forest Modell\n",
    "rf_model = RandomForestClassifier(random_state=42)\n",
    "rf_model.fit(X_train, y_train)\n",
    "\n",
    "# Vorhersage\n",
    "y_pred = rf_model.predict(X_test)\n",
    "\n",
    "# Bewertung\n",
    "accuracy = accuracy_score(y_test, y_pred)\n",
    "report = classification_report(y_test, y_pred, target_names=label_encoder.classes_)\n",
    "\n",
    "print(f\"Accuracy: {accuracy}\")\n",
    "print(report)"
   ]
  },
  {
   "cell_type": "code",
   "execution_count": 13,
   "id": "112eac25",
   "metadata": {},
   "outputs": [
    {
     "data": {
      "image/png": "[encoded data removed]",
      "text/plain": [
       "<Figure size 1200x800 with 1 Axes>"
      ]
     },
     "metadata": {},
     "output_type": "display_data"
    }
   ],
   "source": [
    "import matplotlib.pyplot as plt\n",
    "import pandas as pd\n",
    "import numpy as np\n",
    "\n",
    "# Feature-Wichtigkeiten extrahieren\n",
    "feature_importance = rf_model.feature_importances_\n",
    "features = X.columns  # Nach get_dummies\n",
    "\n",
    "# Sortieren und Visualisieren\n",
    "importance_df = pd.DataFrame({'Feature': features, 'Importance': feature_importance})\n",
    "importance_df = importance_df.sort_values(by='Importance', ascending=False)\n",
    "\n",
    "# Top 10 Features auswählen\n",
    "top_10_features = importance_df.head(10)\n",
    "\n",
    "plt.figure(figsize=(12, 8))  # Breite und Höhe anpassen\n",
    "plt.barh(top_10_features['Feature'], top_10_features['Importance'], height=0.7, color=\"steelblue\")\n",
    "plt.title('Top 10 Feature Importance', fontsize=18)\n",
    "plt.xlabel('Importance', fontsize=14)\n",
    "plt.ylabel('Features', fontsize=14)\n",
    "plt.yticks(fontsize=12)  # Lesbare Schriftgröße\n",
    "plt.gca().invert_yaxis()  # Sortierung von oben nach unten\n",
    "plt.tight_layout()\n",
    "plt.show()"
   ]
  },
  {
   "cell_type": "code",
   "execution_count": 14,
   "id": "98994c1f",
   "metadata": {},
   "outputs": [
    {
     "data": {
      "text/plain": [
       "{0: 0.6428571428571429,\n",
       " 1: 0.6428571428571429,\n",
       " 2: 0.6071428571428571,\n",
       " 3: 0.7142857142857143,\n",
       " 10: 0.5,\n",
       " 20: 0.6428571428571429,\n",
       " 42: 0.5714285714285714,\n",
       " 70: 0.6428571428571429,\n",
       " 100: 0.5714285714285714,\n",
       " 1000: 0.5357142857142857}"
      ]
     },
     "execution_count": 14,
     "metadata": {},
     "output_type": "execute_result"
    }
   ],
   "source": [
    "# Testen mit verschiedenen random_states\n",
    "random_states = [0, 1, 2, 3, 10, 20, 42, 70, 100, 1000]\n",
    "results = {}\n",
    "\n",
    "for state in random_states:\n",
    "    # Train-Test-Split\n",
    "    X_train, X_test, y_train, y_test = train_test_split(X_scaled, y, test_size=0.2, random_state=state)\n",
    "    \n",
    "    # Random Forest Modell\n",
    "    rf_model = RandomForestClassifier(random_state=state)\n",
    "    rf_model.fit(X_train, y_train)\n",
    "    \n",
    "    # Vorhersage\n",
    "    y_pred = rf_model.predict(X_test)\n",
    "    \n",
    "    # Bewertung\n",
    "    accuracy = accuracy_score(y_test, y_pred)\n",
    "    results[state] = accuracy\n",
    "\n",
    "results"
   ]
  },
  {
   "cell_type": "markdown",
   "id": "7f878c76",
   "metadata": {},
   "source": [
    "## B) Random Forest Classifier (with Hm)"
   ]
  },
  {
   "cell_type": "code",
   "execution_count": 16,
   "id": "de5d242a",
   "metadata": {},
   "outputs": [
    {
     "name": "stdout",
     "output_type": "stream",
     "text": [
      "Accuracy: 0.8571428571428571\n",
      "                                       precision    recall  f1-score   support\n",
      "\n",
      "                            First EBT       0.60      1.00      0.75         3\n",
      " First UV-cycle (4 weeks irradiation)       1.00      0.80      0.89         5\n",
      "                Pristine LDPE and PET       1.00      1.00      1.00         4\n",
      "                           Second EBT       0.83      0.83      0.83         6\n",
      "Second UV-cycle (8 weeks irradiation)       0.75      1.00      0.86         3\n",
      "                            Third EBT       1.00      1.00      1.00         1\n",
      " Third UV-cycle (12 weks irradiation)       1.00      0.67      0.80         6\n",
      "\n",
      "                             accuracy                           0.86        28\n",
      "                            macro avg       0.88      0.90      0.88        28\n",
      "                         weighted avg       0.89      0.86      0.86        28\n",
      "\n"
     ]
    }
   ],
   "source": [
    "# Datenvorbereitung\n",
    "# ohne 'Sample Name', 'Name of Original DSC Measurement', 'Mass in mg'\n",
    "features = [\n",
    "    '∆Hm in Jg-1', 'TStart in °C', 'TEnd in °C', 'Tm in °C',\n",
    "    'Hm',\n",
    "    'Modality'\n",
    "]\n",
    "target = 'Aging Level'\n",
    "\n",
    "# Merkmalsauswahl und Zielspalte\n",
    "X = df_data[features]\n",
    "y = df_data[target]\n",
    "\n",
    "\n",
    "# Kategorische Variablen in numerische Form umwandeln\n",
    "X = pd.get_dummies(X)\n",
    "label_encoder = LabelEncoder()\n",
    "y = label_encoder.fit_transform(y)\n",
    "\n",
    "# Feature Scaling\n",
    "scaler = StandardScaler()\n",
    "X_scaled = scaler.fit_transform(X)\n",
    "\n",
    "# Train-Test-Split\n",
    "X_train, X_test, y_train, y_test = train_test_split(X_scaled, y, test_size=0.2, random_state=42)\n",
    "\n",
    "\n",
    "# Random Forest Modell\n",
    "rf_model = RandomForestClassifier(random_state=42)\n",
    "rf_model.fit(X_train, y_train)\n",
    "\n",
    "# Vorhersage\n",
    "y_pred = rf_model.predict(X_test)\n",
    "\n",
    "# Bewertung\n",
    "accuracy = accuracy_score(y_test, y_pred)\n",
    "report = classification_report(y_test, y_pred, target_names=label_encoder.classes_)\n",
    "\n",
    "print(f\"Accuracy: {accuracy}\")\n",
    "print(report)"
   ]
  },
  {
   "cell_type": "code",
   "execution_count": 17,
   "id": "9ff5d571",
   "metadata": {},
   "outputs": [
    {
     "data": {
      "image/png": "[encoded data removed]",
      "text/plain": [
       "<Figure size 1200x800 with 1 Axes>"
      ]
     },
     "metadata": {},
     "output_type": "display_data"
    }
   ],
   "source": [
    "import matplotlib.pyplot as plt\n",
    "import pandas as pd\n",
    "import numpy as np\n",
    "\n",
    "# Feature-Wichtigkeiten extrahieren\n",
    "feature_importance = rf_model.feature_importances_\n",
    "features = X.columns  # Nach get_dummies\n",
    "\n",
    "# Sortieren und Visualisieren\n",
    "importance_df = pd.DataFrame({'Feature': features, 'Importance': feature_importance})\n",
    "importance_df = importance_df.sort_values(by='Importance', ascending=False)\n",
    "\n",
    "# Top 10 Features auswählen\n",
    "top_10_features = importance_df.head(10)\n",
    "\n",
    "plt.figure(figsize=(12, 8))  # Breite und Höhe anpassen\n",
    "plt.barh(top_10_features['Feature'], top_10_features['Importance'], height=0.7, color=\"steelblue\")\n",
    "plt.title('Top 10 Feature Importance', fontsize=18)\n",
    "plt.xlabel('Importance', fontsize=14)\n",
    "plt.ylabel('Features', fontsize=14)\n",
    "plt.yticks(fontsize=12)  # Lesbare Schriftgröße\n",
    "plt.gca().invert_yaxis()  # Sortierung von oben nach unten\n",
    "plt.tight_layout()\n",
    "plt.show()"
   ]
  },
  {
   "cell_type": "code",
   "execution_count": 18,
   "id": "ec3888a1",
   "metadata": {},
   "outputs": [
    {
     "data": {
      "text/plain": [
       "{0: 0.8214285714285714,\n",
       " 1: 0.8928571428571429,\n",
       " 2: 0.8571428571428571,\n",
       " 3: 0.8571428571428571,\n",
       " 10: 0.8571428571428571,\n",
       " 20: 0.9285714285714286,\n",
       " 42: 0.8571428571428571,\n",
       " 70: 0.9642857142857143,\n",
       " 100: 0.9285714285714286,\n",
       " 1000: 0.8214285714285714}"
      ]
     },
     "execution_count": 18,
     "metadata": {},
     "output_type": "execute_result"
    }
   ],
   "source": [
    "# Testen mit verschiedenen random_states\n",
    "random_states = [0, 1, 2, 3, 10, 20, 42, 70, 100, 1000]\n",
    "results = {}\n",
    "\n",
    "for state in random_states:\n",
    "    # Train-Test-Split\n",
    "    X_train, X_test, y_train, y_test = train_test_split(X_scaled, y, test_size=0.2, random_state=state)\n",
    "    \n",
    "    # Random Forest Modell\n",
    "    rf_model = RandomForestClassifier(random_state=state)\n",
    "    rf_model.fit(X_train, y_train)\n",
    "    \n",
    "    # Vorhersage\n",
    "    y_pred = rf_model.predict(X_test)\n",
    "    \n",
    "    # Bewertung\n",
    "    accuracy = accuracy_score(y_test, y_pred)\n",
    "    results[state] = accuracy\n",
    "\n",
    "results"
   ]
  },
  {
   "cell_type": "code",
   "execution_count": 19,
   "id": "10de1bf8-78ea-49f2-a808-2bf528b3ba9c",
   "metadata": {},
   "outputs": [
    {
     "name": "stdout",
     "output_type": "stream",
     "text": [
      "Ø Genauigkeit: 0.8785714285714284\n"
     ]
    }
   ],
   "source": [
    "mean_value = sum(results.values()) / len(results)\n",
    "print(f\"Ø Genauigkeit: {mean_value}\")"
   ]
  }
 ],
 "metadata": {
  "kernelspec": {
   "display_name": "Python [conda env:base] *",
   "language": "python",
   "name": "conda-base-py"
  },
  "language_info": {
   "codemirror_mode": {
    "name": "ipython",
    "version": 3
   },
   "file_extension": ".py",
   "mimetype": "text/x-python",
   "name": "python",
   "nbconvert_exporter": "python",
   "pygments_lexer": "ipython3",
   "version": "3.12.7"
  }
 },
 "nbformat": 4,
 "nbformat_minor": 5
}
