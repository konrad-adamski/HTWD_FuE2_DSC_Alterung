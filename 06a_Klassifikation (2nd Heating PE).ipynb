{
 "cells": [
  {
   "cell_type": "markdown",
   "id": "63772515-143b-427e-945d-78575d85553d",
   "metadata": {},
   "source": [
    "# Klassifikation (für PE)\n",
    "**Feature:**\n",
    "- '∆Hm in Jg-1',\n",
    "-  'TStart in °C'\n",
    "-  'TEnd in °C'\n",
    "-  'Tm in °C'\n",
    "-  (Hm)\n",
    "-  'Modality'\n",
    "\n",
    "**Target:** 'Aging Level'"
   ]
  },
  {
   "cell_type": "code",
   "execution_count": 2,
   "id": "9a96d4d8",
   "metadata": {},
   "outputs": [],
   "source": [
    "from sklearn.model_selection import train_test_split\n",
    "from sklearn.ensemble import RandomForestClassifier\n",
    "from sklearn.preprocessing import LabelEncoder, StandardScaler\n",
    "from sklearn.metrics import classification_report, accuracy_score"
   ]
  },
  {
   "cell_type": "code",
   "execution_count": 3,
   "id": "13ac8379",
   "metadata": {},
   "outputs": [],
   "source": [
    "import pandas as pd"
   ]
  },
  {
   "cell_type": "code",
   "execution_count": 4,
   "id": "d38c6f73",
   "metadata": {},
   "outputs": [
    {
     "data": {
      "text/html": [
       "<div>\n",
       "<style scoped>\n",
       "    .dataframe tbody tr th:only-of-type {\n",
       "        vertical-align: middle;\n",
       "    }\n",
       "\n",
       "    .dataframe tbody tr th {\n",
       "        vertical-align: top;\n",
       "    }\n",
       "\n",
       "    .dataframe thead th {\n",
       "        text-align: right;\n",
       "    }\n",
       "</style>\n",
       "<table border=\"1\" class=\"dataframe\">\n",
       "  <thead>\n",
       "    <tr style=\"text-align: right;\">\n",
       "      <th></th>\n",
       "      <th>Sample Name</th>\n",
       "      <th>Name of Original DSC Measurement</th>\n",
       "      <th>Mass in mg</th>\n",
       "      <th>∆Hm in Jg-1</th>\n",
       "      <th>Segment</th>\n",
       "      <th>Polymer</th>\n",
       "      <th>TStart in °C</th>\n",
       "      <th>TEnd in °C</th>\n",
       "      <th>Tm in °C</th>\n",
       "      <th>Tm</th>\n",
       "      <th>Hm</th>\n",
       "      <th>Modality</th>\n",
       "      <th>Tail</th>\n",
       "      <th>Shoulder</th>\n",
       "      <th>Aging Level</th>\n",
       "    </tr>\n",
       "  </thead>\n",
       "  <tbody>\n",
       "    <tr>\n",
       "      <th>0</th>\n",
       "      <td>0-PE-1_1</td>\n",
       "      <td>0-PE-6</td>\n",
       "      <td>1.17</td>\n",
       "      <td>108.10</td>\n",
       "      <td>2nd Heating</td>\n",
       "      <td>PE</td>\n",
       "      <td>50.0</td>\n",
       "      <td>118.380</td>\n",
       "      <td>107.7</td>\n",
       "      <td>108</td>\n",
       "      <td>8.79001</td>\n",
       "      <td>sharp</td>\n",
       "      <td>left</td>\n",
       "      <td>undefined</td>\n",
       "      <td>Pristine LDPE and PET</td>\n",
       "    </tr>\n",
       "    <tr>\n",
       "      <th>1</th>\n",
       "      <td>0-PE-1_2</td>\n",
       "      <td>0-PE-7</td>\n",
       "      <td>1.22</td>\n",
       "      <td>107.90</td>\n",
       "      <td>2nd Heating</td>\n",
       "      <td>PE</td>\n",
       "      <td>50.0</td>\n",
       "      <td>119.300</td>\n",
       "      <td>107.7</td>\n",
       "      <td>108</td>\n",
       "      <td>8.76131</td>\n",
       "      <td>sharp</td>\n",
       "      <td>left</td>\n",
       "      <td>undefined</td>\n",
       "      <td>Pristine LDPE and PET</td>\n",
       "    </tr>\n",
       "    <tr>\n",
       "      <th>2</th>\n",
       "      <td>0-PE-1_3</td>\n",
       "      <td>0-PE-8</td>\n",
       "      <td>1.19</td>\n",
       "      <td>108.10</td>\n",
       "      <td>2nd Heating</td>\n",
       "      <td>PE</td>\n",
       "      <td>50.0</td>\n",
       "      <td>118.900</td>\n",
       "      <td>107.6</td>\n",
       "      <td>108</td>\n",
       "      <td>8.71668</td>\n",
       "      <td>sharp</td>\n",
       "      <td>left</td>\n",
       "      <td>undefined</td>\n",
       "      <td>Pristine LDPE and PET</td>\n",
       "    </tr>\n",
       "    <tr>\n",
       "      <th>3</th>\n",
       "      <td>0-PE-1_4</td>\n",
       "      <td>0-PE-9</td>\n",
       "      <td>1.27</td>\n",
       "      <td>109.40</td>\n",
       "      <td>2nd Heating</td>\n",
       "      <td>PE</td>\n",
       "      <td>50.0</td>\n",
       "      <td>118.200</td>\n",
       "      <td>107.7</td>\n",
       "      <td>108</td>\n",
       "      <td>8.40655</td>\n",
       "      <td>sharp</td>\n",
       "      <td>left</td>\n",
       "      <td>undefined</td>\n",
       "      <td>Pristine LDPE and PET</td>\n",
       "    </tr>\n",
       "    <tr>\n",
       "      <th>4</th>\n",
       "      <td>0-PE-1_5</td>\n",
       "      <td>0-PE-10</td>\n",
       "      <td>1.41</td>\n",
       "      <td>107.10</td>\n",
       "      <td>2nd Heating</td>\n",
       "      <td>PE</td>\n",
       "      <td>50.0</td>\n",
       "      <td>119.000</td>\n",
       "      <td>107.8</td>\n",
       "      <td>108</td>\n",
       "      <td>7.96444</td>\n",
       "      <td>sharp</td>\n",
       "      <td>left</td>\n",
       "      <td>undefined</td>\n",
       "      <td>Pristine LDPE and PET</td>\n",
       "    </tr>\n",
       "    <tr>\n",
       "      <th>...</th>\n",
       "      <td>...</td>\n",
       "      <td>...</td>\n",
       "      <td>...</td>\n",
       "      <td>...</td>\n",
       "      <td>...</td>\n",
       "      <td>...</td>\n",
       "      <td>...</td>\n",
       "      <td>...</td>\n",
       "      <td>...</td>\n",
       "      <td>...</td>\n",
       "      <td>...</td>\n",
       "      <td>...</td>\n",
       "      <td>...</td>\n",
       "      <td>...</td>\n",
       "      <td>...</td>\n",
       "    </tr>\n",
       "    <tr>\n",
       "      <th>132</th>\n",
       "      <td>3-EBT-PE-4_1</td>\n",
       "      <td>eb-PE-56</td>\n",
       "      <td>1.34</td>\n",
       "      <td>75.67</td>\n",
       "      <td>2nd Heating</td>\n",
       "      <td>PE</td>\n",
       "      <td>52.5</td>\n",
       "      <td>111.680</td>\n",
       "      <td>93.4</td>\n",
       "      <td>93</td>\n",
       "      <td>6.68234</td>\n",
       "      <td>wide</td>\n",
       "      <td>left</td>\n",
       "      <td>undefined</td>\n",
       "      <td>Third EBT</td>\n",
       "    </tr>\n",
       "    <tr>\n",
       "      <th>133</th>\n",
       "      <td>3-EBT-PE-4_2</td>\n",
       "      <td>eb-PE-57</td>\n",
       "      <td>1.38</td>\n",
       "      <td>74.97</td>\n",
       "      <td>2nd Heating</td>\n",
       "      <td>PE</td>\n",
       "      <td>55.0</td>\n",
       "      <td>109.080</td>\n",
       "      <td>93.6</td>\n",
       "      <td>94</td>\n",
       "      <td>6.46357</td>\n",
       "      <td>wide</td>\n",
       "      <td>left</td>\n",
       "      <td>undefined</td>\n",
       "      <td>Third EBT</td>\n",
       "    </tr>\n",
       "    <tr>\n",
       "      <th>134</th>\n",
       "      <td>3-EBT-PE-4_3</td>\n",
       "      <td>eb-PE-58</td>\n",
       "      <td>1.35</td>\n",
       "      <td>75.39</td>\n",
       "      <td>2nd Heating</td>\n",
       "      <td>PE</td>\n",
       "      <td>55.0</td>\n",
       "      <td>112.292</td>\n",
       "      <td>93.2</td>\n",
       "      <td>93</td>\n",
       "      <td>6.72744</td>\n",
       "      <td>wide</td>\n",
       "      <td>left</td>\n",
       "      <td>undefined</td>\n",
       "      <td>Third EBT</td>\n",
       "    </tr>\n",
       "    <tr>\n",
       "      <th>135</th>\n",
       "      <td>3-EBT-PE-4_4</td>\n",
       "      <td>eb-PE-59</td>\n",
       "      <td>1.36</td>\n",
       "      <td>72.86</td>\n",
       "      <td>2nd Heating</td>\n",
       "      <td>PE</td>\n",
       "      <td>54.6</td>\n",
       "      <td>112.900</td>\n",
       "      <td>93.4</td>\n",
       "      <td>93</td>\n",
       "      <td>6.29116</td>\n",
       "      <td>wide</td>\n",
       "      <td>left</td>\n",
       "      <td>undefined</td>\n",
       "      <td>Third EBT</td>\n",
       "    </tr>\n",
       "    <tr>\n",
       "      <th>136</th>\n",
       "      <td>3-EBT-PE-4_5</td>\n",
       "      <td>eb-PE-60</td>\n",
       "      <td>1.34</td>\n",
       "      <td>74.65</td>\n",
       "      <td>2nd Heating</td>\n",
       "      <td>PE</td>\n",
       "      <td>54.5</td>\n",
       "      <td>110.330</td>\n",
       "      <td>94.0</td>\n",
       "      <td>94</td>\n",
       "      <td>6.61259</td>\n",
       "      <td>wide</td>\n",
       "      <td>left</td>\n",
       "      <td>undefined</td>\n",
       "      <td>Third EBT</td>\n",
       "    </tr>\n",
       "  </tbody>\n",
       "</table>\n",
       "<p>137 rows × 15 columns</p>\n",
       "</div>"
      ],
      "text/plain": [
       "      Sample Name Name of Original DSC Measurement  Mass in mg  ∆Hm in Jg-1  \\\n",
       "0        0-PE-1_1                           0-PE-6        1.17       108.10   \n",
       "1        0-PE-1_2                           0-PE-7        1.22       107.90   \n",
       "2        0-PE-1_3                           0-PE-8        1.19       108.10   \n",
       "3        0-PE-1_4                           0-PE-9        1.27       109.40   \n",
       "4        0-PE-1_5                          0-PE-10        1.41       107.10   \n",
       "..            ...                              ...         ...          ...   \n",
       "132  3-EBT-PE-4_1                         eb-PE-56        1.34        75.67   \n",
       "133  3-EBT-PE-4_2                         eb-PE-57        1.38        74.97   \n",
       "134  3-EBT-PE-4_3                         eb-PE-58        1.35        75.39   \n",
       "135  3-EBT-PE-4_4                         eb-PE-59        1.36        72.86   \n",
       "136  3-EBT-PE-4_5                         eb-PE-60        1.34        74.65   \n",
       "\n",
       "         Segment Polymer  TStart in °C  TEnd in °C  Tm in °C   Tm       Hm  \\\n",
       "0    2nd Heating      PE          50.0     118.380     107.7  108  8.79001   \n",
       "1    2nd Heating      PE          50.0     119.300     107.7  108  8.76131   \n",
       "2    2nd Heating      PE          50.0     118.900     107.6  108  8.71668   \n",
       "3    2nd Heating      PE          50.0     118.200     107.7  108  8.40655   \n",
       "4    2nd Heating      PE          50.0     119.000     107.8  108  7.96444   \n",
       "..           ...     ...           ...         ...       ...  ...      ...   \n",
       "132  2nd Heating      PE          52.5     111.680      93.4   93  6.68234   \n",
       "133  2nd Heating      PE          55.0     109.080      93.6   94  6.46357   \n",
       "134  2nd Heating      PE          55.0     112.292      93.2   93  6.72744   \n",
       "135  2nd Heating      PE          54.6     112.900      93.4   93  6.29116   \n",
       "136  2nd Heating      PE          54.5     110.330      94.0   94  6.61259   \n",
       "\n",
       "    Modality  Tail   Shoulder            Aging Level  \n",
       "0      sharp  left  undefined  Pristine LDPE and PET  \n",
       "1      sharp  left  undefined  Pristine LDPE and PET  \n",
       "2      sharp  left  undefined  Pristine LDPE and PET  \n",
       "3      sharp  left  undefined  Pristine LDPE and PET  \n",
       "4      sharp  left  undefined  Pristine LDPE and PET  \n",
       "..       ...   ...        ...                    ...  \n",
       "132     wide  left  undefined              Third EBT  \n",
       "133     wide  left  undefined              Third EBT  \n",
       "134     wide  left  undefined              Third EBT  \n",
       "135     wide  left  undefined              Third EBT  \n",
       "136     wide  left  undefined              Third EBT  \n",
       "\n",
       "[137 rows x 15 columns]"
      ]
     },
     "execution_count": 4,
     "metadata": {},
     "output_type": "execute_result"
    }
   ],
   "source": [
    "file_path_data = \"data/052_Data_2st_Heating_PE.csv\"\n",
    "\n",
    "df_data = pd.read_csv(file_path_data)\n",
    "df_data"
   ]
  },
  {
   "cell_type": "code",
   "execution_count": 5,
   "id": "80c8d203",
   "metadata": {},
   "outputs": [
    {
     "name": "stdout",
     "output_type": "stream",
     "text": [
      "Pristine LDPE and PET\n",
      "First UV-cycle (4 weeks irradiation)\n",
      "Second UV-cycle (8 weeks irradiation)\n",
      "Third UV-cycle (12 weks irradiation)\n",
      "First EBT\n",
      "Second EBT\n",
      "Third EBT\n"
     ]
    }
   ],
   "source": [
    "for v in df_data[\"Aging Level\"].unique():\n",
    "    print(v)"
   ]
  },
  {
   "cell_type": "code",
   "execution_count": 6,
   "id": "722b13f5",
   "metadata": {},
   "outputs": [
    {
     "data": {
      "text/plain": [
       "Index(['Sample Name', 'Name of Original DSC Measurement', 'Mass in mg',\n",
       "       '∆Hm in Jg-1', 'Segment', 'Polymer', 'TStart in °C', 'TEnd in °C',\n",
       "       'Tm in °C', 'Tm', 'Hm', 'Modality', 'Tail', 'Shoulder', 'Aging Level'],\n",
       "      dtype='object')"
      ]
     },
     "execution_count": 6,
     "metadata": {},
     "output_type": "execute_result"
    }
   ],
   "source": [
    "df_data.columns"
   ]
  },
  {
   "cell_type": "code",
   "execution_count": 7,
   "id": "2e13a667",
   "metadata": {},
   "outputs": [
    {
     "name": "stdout",
     "output_type": "stream",
     "text": [
      "Modality\n",
      "sharp      78\n",
      "wide       39\n",
      "bimodal    20\n",
      "Name: count, dtype: int64\n",
      "\n",
      "Tail\n",
      "left    137\n",
      "Name: count, dtype: int64\n",
      "\n",
      "Shoulder\n",
      "undefined    137\n",
      "Name: count, dtype: int64\n"
     ]
    }
   ],
   "source": [
    "# Häufigkeiten der Werte für jede Spalte berechnen und einzeln anzeigen\n",
    "print(f\"{df_data['Modality'].value_counts()}\\n\")\n",
    "print(f\"{df_data['Tail'].value_counts()}\\n\")\n",
    "print(f\"{df_data['Shoulder'].value_counts()}\")"
   ]
  },
  {
   "cell_type": "markdown",
   "id": "76936910",
   "metadata": {},
   "source": [
    "## A) Random Forest Classifier (without Hm)"
   ]
  },
  {
   "cell_type": "code",
   "execution_count": 9,
   "id": "7488fa3d",
   "metadata": {},
   "outputs": [],
   "source": [
    "# Datenvorbereitung\n",
    "\n",
    "# ohne 'Sample Name', 'Name of Original DSC Measurement', 'Mass in mg'\n",
    "features = [\n",
    "    '∆Hm in Jg-1', 'TStart in °C', 'TEnd in °C', 'Tm in °C',\n",
    "    'Modality'\n",
    "]\n",
    "target = 'Aging Level'\n",
    "\n",
    "# Merkmalsauswahl und Zielspalte\n",
    "X = df_data[features]\n",
    "y = df_data[target]"
   ]
  },
  {
   "cell_type": "code",
   "execution_count": 10,
   "id": "436c3d2e",
   "metadata": {},
   "outputs": [],
   "source": [
    "# Kategorische Variablen in numerische Form umwandeln\n",
    "X = pd.get_dummies(X)\n",
    "label_encoder = LabelEncoder()\n",
    "y = label_encoder.fit_transform(y)\n",
    "\n",
    "# Feature Scaling\n",
    "scaler = StandardScaler()\n",
    "X_scaled = scaler.fit_transform(X)"
   ]
  },
  {
   "cell_type": "code",
   "execution_count": 11,
   "id": "ede7630b",
   "metadata": {},
   "outputs": [],
   "source": [
    "# Train-Test-Split\n",
    "X_train, X_test, y_train, y_test = train_test_split(X_scaled, y, test_size=0.2, random_state=42)"
   ]
  },
  {
   "cell_type": "code",
   "execution_count": 12,
   "id": "ad16a83e",
   "metadata": {},
   "outputs": [
    {
     "name": "stdout",
     "output_type": "stream",
     "text": [
      "Accuracy: 0.9285714285714286\n",
      "                                       precision    recall  f1-score   support\n",
      "\n",
      "                            First EBT       1.00      1.00      1.00         3\n",
      " First UV-cycle (4 weeks irradiation)       1.00      1.00      1.00         5\n",
      "                Pristine LDPE and PET       0.75      0.75      0.75         4\n",
      "                           Second EBT       1.00      1.00      1.00         5\n",
      "Second UV-cycle (8 weeks irradiation)       0.75      1.00      0.86         3\n",
      "                            Third EBT       1.00      1.00      1.00         4\n",
      " Third UV-cycle (12 weks irradiation)       1.00      0.75      0.86         4\n",
      "\n",
      "                             accuracy                           0.93        28\n",
      "                            macro avg       0.93      0.93      0.92        28\n",
      "                         weighted avg       0.94      0.93      0.93        28\n",
      "\n"
     ]
    }
   ],
   "source": [
    "# Random Forest Modell\n",
    "rf_model = RandomForestClassifier(random_state=42)\n",
    "rf_model.fit(X_train, y_train)\n",
    "\n",
    "# Vorhersage\n",
    "y_pred = rf_model.predict(X_test)\n",
    "\n",
    "# Bewertung\n",
    "accuracy = accuracy_score(y_test, y_pred)\n",
    "report = classification_report(y_test, y_pred, target_names=label_encoder.classes_)\n",
    "\n",
    "print(f\"Accuracy: {accuracy}\")\n",
    "print(report)"
   ]
  },
  {
   "cell_type": "code",
   "execution_count": 13,
   "id": "112eac25",
   "metadata": {},
   "outputs": [
    {
     "data": {
      "image/png": "[encoded data removed]",
      "text/plain": [
       "<Figure size 1200x800 with 1 Axes>"
      ]
     },
     "metadata": {},
     "output_type": "display_data"
    }
   ],
   "source": [
    "import matplotlib.pyplot as plt\n",
    "import pandas as pd\n",
    "import numpy as np\n",
    "\n",
    "# Feature-Wichtigkeiten extrahieren\n",
    "feature_importance = rf_model.feature_importances_\n",
    "features = X.columns  # Nach get_dummies\n",
    "\n",
    "# Sortieren und Visualisieren\n",
    "importance_df = pd.DataFrame({'Feature': features, 'Importance': feature_importance})\n",
    "importance_df = importance_df.sort_values(by='Importance', ascending=False)\n",
    "\n",
    "# Top 10 Features auswählen\n",
    "top_10_features = importance_df.head(10)\n",
    "\n",
    "plt.figure(figsize=(12, 8))  # Breite und Höhe anpassen\n",
    "plt.barh(top_10_features['Feature'], top_10_features['Importance'], height=0.7, color=\"steelblue\")\n",
    "plt.title('Top 10 Feature Importance', fontsize=18)\n",
    "plt.xlabel('Importance', fontsize=14)\n",
    "plt.ylabel('Features', fontsize=14)\n",
    "plt.yticks(fontsize=12)  # Lesbare Schriftgröße\n",
    "plt.gca().invert_yaxis()  # Sortierung von oben nach unten\n",
    "plt.tight_layout()\n",
    "plt.show()"
   ]
  },
  {
   "cell_type": "code",
   "execution_count": 14,
   "id": "98994c1f",
   "metadata": {},
   "outputs": [
    {
     "data": {
      "text/plain": [
       "{0: 0.8928571428571429,\n",
       " 1: 0.9285714285714286,\n",
       " 2: 0.8214285714285714,\n",
       " 3: 0.9285714285714286,\n",
       " 10: 0.8928571428571429,\n",
       " 20: 1.0,\n",
       " 42: 0.9285714285714286,\n",
       " 70: 0.9642857142857143,\n",
       " 100: 1.0,\n",
       " 1000: 0.9285714285714286}"
      ]
     },
     "execution_count": 14,
     "metadata": {},
     "output_type": "execute_result"
    }
   ],
   "source": [
    "# Testen mit verschiedenen random_states\n",
    "random_states = [0, 1, 2, 3, 10, 20, 42, 70, 100, 1000]\n",
    "results = {}\n",
    "\n",
    "for state in random_states:\n",
    "    # Train-Test-Split\n",
    "    X_train, X_test, y_train, y_test = train_test_split(X_scaled, y, test_size=0.2, random_state=state)\n",
    "    \n",
    "    # Random Forest Modell\n",
    "    rf_model = RandomForestClassifier(random_state=state)\n",
    "    rf_model.fit(X_train, y_train)\n",
    "    \n",
    "    # Vorhersage\n",
    "    y_pred = rf_model.predict(X_test)\n",
    "    \n",
    "    # Bewertung\n",
    "    accuracy = accuracy_score(y_test, y_pred)\n",
    "    results[state] = accuracy\n",
    "\n",
    "results"
   ]
  },
  {
   "cell_type": "markdown",
   "id": "7f878c76",
   "metadata": {},
   "source": [
    "## B) Random Forest Classifier (with Hm)"
   ]
  },
  {
   "cell_type": "code",
   "execution_count": 16,
   "id": "de5d242a",
   "metadata": {},
   "outputs": [
    {
     "name": "stdout",
     "output_type": "stream",
     "text": [
      "Accuracy: 0.8928571428571429\n",
      "                                       precision    recall  f1-score   support\n",
      "\n",
      "                            First EBT       1.00      1.00      1.00         3\n",
      " First UV-cycle (4 weeks irradiation)       1.00      1.00      1.00         5\n",
      "                Pristine LDPE and PET       0.67      0.50      0.57         4\n",
      "                           Second EBT       1.00      1.00      1.00         5\n",
      "Second UV-cycle (8 weeks irradiation)       0.60      1.00      0.75         3\n",
      "                            Third EBT       1.00      1.00      1.00         4\n",
      " Third UV-cycle (12 weks irradiation)       1.00      0.75      0.86         4\n",
      "\n",
      "                             accuracy                           0.89        28\n",
      "                            macro avg       0.90      0.89      0.88        28\n",
      "                         weighted avg       0.91      0.89      0.89        28\n",
      "\n"
     ]
    }
   ],
   "source": [
    "# Datenvorbereitung\n",
    "# ohne 'Sample Name', 'Name of Original DSC Measurement', 'Mass in mg'\n",
    "features = [\n",
    "    '∆Hm in Jg-1', 'TStart in °C', 'TEnd in °C', 'Tm in °C',\n",
    "    'Hm',\n",
    "    'Modality'\n",
    "]\n",
    "target = 'Aging Level'\n",
    "\n",
    "# Merkmalsauswahl und Zielspalte\n",
    "X = df_data[features]\n",
    "y = df_data[target]\n",
    "\n",
    "\n",
    "# Kategorische Variablen in numerische Form umwandeln\n",
    "X = pd.get_dummies(X)\n",
    "label_encoder = LabelEncoder()\n",
    "y = label_encoder.fit_transform(y)\n",
    "\n",
    "# Feature Scaling\n",
    "scaler = StandardScaler()\n",
    "X_scaled = scaler.fit_transform(X)\n",
    "\n",
    "# Train-Test-Split\n",
    "X_train, X_test, y_train, y_test = train_test_split(X_scaled, y, test_size=0.2, random_state=42)\n",
    "\n",
    "\n",
    "# Random Forest Modell\n",
    "rf_model = RandomForestClassifier(random_state=42)\n",
    "rf_model.fit(X_train, y_train)\n",
    "\n",
    "# Vorhersage\n",
    "y_pred = rf_model.predict(X_test)\n",
    "\n",
    "# Bewertung\n",
    "accuracy = accuracy_score(y_test, y_pred)\n",
    "report = classification_report(y_test, y_pred, target_names=label_encoder.classes_)\n",
    "\n",
    "print(f\"Accuracy: {accuracy}\")\n",
    "print(report)"
   ]
  },
  {
   "cell_type": "code",
   "execution_count": 17,
   "id": "9ff5d571",
   "metadata": {},
   "outputs": [
    {
     "data": {
      "image/png": "[encoded data removed]",
      "text/plain": [
       "<Figure size 1200x800 with 1 Axes>"
      ]
     },
     "metadata": {},
     "output_type": "display_data"
    }
   ],
   "source": [
    "import matplotlib.pyplot as plt\n",
    "import pandas as pd\n",
    "import numpy as np\n",
    "\n",
    "# Feature-Wichtigkeiten extrahieren\n",
    "feature_importance = rf_model.feature_importances_\n",
    "features = X.columns  # Nach get_dummies\n",
    "\n",
    "# Sortieren und Visualisieren\n",
    "importance_df = pd.DataFrame({'Feature': features, 'Importance': feature_importance})\n",
    "importance_df = importance_df.sort_values(by='Importance', ascending=False)\n",
    "\n",
    "# Top 10 Features auswählen\n",
    "top_10_features = importance_df.head(10)\n",
    "\n",
    "plt.figure(figsize=(12, 8))  # Breite und Höhe anpassen\n",
    "plt.barh(top_10_features['Feature'], top_10_features['Importance'], height=0.7, color=\"steelblue\")\n",
    "plt.title('Top 10 Feature Importance', fontsize=18)\n",
    "plt.xlabel('Importance', fontsize=14)\n",
    "plt.ylabel('Features', fontsize=14)\n",
    "plt.yticks(fontsize=12)  # Lesbare Schriftgröße\n",
    "plt.gca().invert_yaxis()  # Sortierung von oben nach unten\n",
    "plt.tight_layout()\n",
    "plt.show()"
   ]
  },
  {
   "cell_type": "code",
   "execution_count": 18,
   "id": "ec3888a1",
   "metadata": {},
   "outputs": [
    {
     "data": {
      "text/plain": [
       "{0: 0.8928571428571429,\n",
       " 1: 0.9285714285714286,\n",
       " 2: 1.0,\n",
       " 3: 0.9642857142857143,\n",
       " 10: 1.0,\n",
       " 20: 1.0,\n",
       " 42: 0.8928571428571429,\n",
       " 70: 0.8928571428571429,\n",
       " 100: 1.0,\n",
       " 1000: 0.9642857142857143}"
      ]
     },
     "execution_count": 18,
     "metadata": {},
     "output_type": "execute_result"
    }
   ],
   "source": [
    "# Testen mit verschiedenen random_states\n",
    "random_states = [0, 1, 2, 3, 10, 20, 42, 70, 100, 1000]\n",
    "results = {}\n",
    "\n",
    "for state in random_states:\n",
    "    # Train-Test-Split\n",
    "    X_train, X_test, y_train, y_test = train_test_split(X_scaled, y, test_size=0.2, random_state=state)\n",
    "    \n",
    "    # Random Forest Modell\n",
    "    rf_model = RandomForestClassifier(random_state=state)\n",
    "    rf_model.fit(X_train, y_train)\n",
    "    \n",
    "    # Vorhersage\n",
    "    y_pred = rf_model.predict(X_test)\n",
    "    \n",
    "    # Bewertung\n",
    "    accuracy = accuracy_score(y_test, y_pred)\n",
    "    results[state] = accuracy\n",
    "\n",
    "results"
   ]
  },
  {
   "cell_type": "code",
   "execution_count": 19,
   "id": "67513daf-3380-48af-9c91-c3da42c47a15",
   "metadata": {},
   "outputs": [
    {
     "name": "stdout",
     "output_type": "stream",
     "text": [
      "Ø Genauigkeit: 0.9535714285714286\n"
     ]
    }
   ],
   "source": [
    "mean_value = sum(results.values()) / len(results)\n",
    "print(f\"Ø Genauigkeit: {mean_value}\")"
   ]
  },
  {
   "cell_type": "code",
   "execution_count": null,
   "id": "51c7f802-1943-4eba-b897-de6fbd2c8568",
   "metadata": {},
   "outputs": [],
   "source": []
  }
 ],
 "metadata": {
  "kernelspec": {
   "display_name": "Python [conda env:base] *",
   "language": "python",
   "name": "conda-base-py"
  },
  "language_info": {
   "codemirror_mode": {
    "name": "ipython",
    "version": 3
   },
   "file_extension": ".py",
   "mimetype": "text/x-python",
   "name": "python",
   "nbconvert_exporter": "python",
   "pygments_lexer": "ipython3",
   "version": "3.12.7"
  }
 },
 "nbformat": 4,
 "nbformat_minor": 5
}
